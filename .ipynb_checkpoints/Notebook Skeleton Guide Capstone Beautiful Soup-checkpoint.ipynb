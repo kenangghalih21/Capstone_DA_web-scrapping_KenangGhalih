{
 "cells": [
  {
   "cell_type": "markdown",
   "metadata": {},
   "source": [
    "```\n",
    "conda create --name capstone-webscrap python=3.10\n",
    "conda activate capstone-webscrap\n",
    "pip install ipykernel\n",
    "python -m ipykernel install --user --name=capstone-webscrap\n",
    "cd ...\n",
    "pip install -r requirements.txt\n",
    "pip list --format=freeze > requirements_latest.txt \n",
    "---\n",
    "conda env create -f environemnt.yml\n",
    "---\n",
    "conda env list\n",
    "conda list --name <nama env>\n",
    "conda remove --name <nama_env> --all\n",
    "```"
   ]
  },
  {
   "cell_type": "markdown",
   "metadata": {},
   "source": [
    "# Capstone Webscrapping using BeautifulSoup\n",
    "\n",
    "This notebook contains guidances & tasks on the data processing for the application\n",
    "\n",
    "## background\n",
    "\n",
    "[Data pekerjaan data di indonesia pada situs kalibrr](https://www.kalibrr.id/job-board/te/data/1)<br>\n",
    "`Kalibrr` adalah perusahaan yang menyediakan platform untuk rekrutmen pekerja. Berasal dari Filipina yang mulai beroperasi di Indonesia sejak 2016. Perusahaan menggabungkan platform rekrutmen berbasis AI dan layanan employer branding untuk membantu perusahaan menunjukkan nilai-nilai mereka, menarik kandidat tepat, dan merealisasikan proses yang mulus.\n",
    "\n",
    "Dari Halaman tersebut carilah \n",
    "- title pekerjaan , \n",
    "- lokasi pekerjaan , \n",
    "- tanggal pekerjaan di post \n",
    "- dan dealine submit permohonan,\n",
    "- dan perusahaan\n",
    "\n",
    "\n",
    "- tariklah 15 halaman\n",
    "- Buatlah plot dari jumlah pekerjaan berdasarkan lokasi.\n",
    "\n",
    "## Requesting the Data and Creating a BeautifulSoup\n",
    "\n",
    "Let's begin with requesting the web from the site with `get` method."
   ]
  },
  {
   "cell_type": "code",
   "execution_count": 1,
   "metadata": {
    "ExecuteTime": {
     "end_time": "2023-04-11T18:17:10.402004Z",
     "start_time": "2023-04-11T18:17:09.397776Z"
    }
   },
   "outputs": [],
   "source": [
    "import requests\n",
    "\n",
    "url_get = requests.get('https://www.kalibrr.id/job-board/te/data/1')\n",
    "#print(url_get)"
   ]
  },
  {
   "cell_type": "markdown",
   "metadata": {
    "ExecuteTime": {
     "end_time": "2023-04-11T16:12:15.070453Z",
     "start_time": "2023-04-11T16:12:05.714780Z"
    }
   },
   "source": [
    "import requests\n",
    "\n",
    "page = 0\n",
    "while page != 15:\n",
    "      url_get = requests.get(\"https://www.kalibrr.id/job-board/te/data?page={page}\")\n",
    "      print(url_get)\n",
    "      page = page + 1"
   ]
  },
  {
   "cell_type": "markdown",
   "metadata": {
    "ExecuteTime": {
     "end_time": "2023-04-11T17:18:50.184314Z",
     "start_time": "2023-04-11T17:18:35.036926Z"
    }
   },
   "source": [
    "import requests\n",
    "\n",
    "for page in range(1,16):\n",
    "    url_get = \"https://www.kalibrr.id/job-board/te/data/{page}.html\".format(page =page)\n",
    "    #print(url_get)\n",
    "    page = requests.get(url_get)\n"
   ]
  },
  {
   "cell_type": "markdown",
   "metadata": {},
   "source": [
    "To visualize what exactly you get from the `request.get`, we can use .content so ee what we exactly get, in here i slice it so it won't make our screen full of the html we get from the page. You can delete the slicing if you want to see what we fully get."
   ]
  },
  {
   "cell_type": "code",
   "execution_count": 2,
   "metadata": {
    "ExecuteTime": {
     "end_time": "2023-04-11T18:17:10.417297Z",
     "start_time": "2023-04-11T18:17:10.408007Z"
    }
   },
   "outputs": [
    {
     "data": {
      "text/plain": [
       "b'!DOCTYPE html><html lang=\"en\"><head><meta name=\"viewport\" content=\"width=device-width\"/><meta charSet=\"utf-8\"/><script type=\"application/ld+json\">{\\n    \"@context\": \"https://schema.org\",\\n    \"@type\": \"WebSite\",\\n    \"url\": \"https://www.kalibrr.com\",\\n    \"potentialAction\": [\\n      {\\n        \"@type\": \"SearchAction\",\\n        \"target\": \"https://www.kalibrr.com/job-board/te/={search_term_string}\",\\n        \"query-input\": \"required name=search_term_string\"\\n      }\\n     ]\\n  }</script><meta property=\"og:i'"
      ]
     },
     "execution_count": 2,
     "metadata": {},
     "output_type": "execute_result"
    }
   ],
   "source": [
    "url_get.content[1:500]"
   ]
  },
  {
   "cell_type": "markdown",
   "metadata": {},
   "source": [
    "As we can see we get a very unstructured and complex html, which actually contains the codes needed to show the webpages on your web browser. But we as human still confused what and where we can use that piece of code, so here where we use the beautifulsoup. Beautiful soup class will result a beautifulsoup object. Beautiful Soup transforms a complex HTML document into a complex tree of Python objects. \n",
    "\n",
    "Let's make Beautiful soup object and feel free to explore the object here."
   ]
  },
  {
   "cell_type": "code",
   "execution_count": 3,
   "metadata": {
    "ExecuteTime": {
     "end_time": "2023-04-11T18:17:10.557427Z",
     "start_time": "2023-04-11T18:17:10.420652Z"
    }
   },
   "outputs": [],
   "source": [
    "from bs4 import BeautifulSoup \n",
    "\n",
    "soup = BeautifulSoup(url_get.content,\"html.parser\")"
   ]
  },
  {
   "cell_type": "markdown",
   "metadata": {},
   "source": [
    "## Finding the right key to scrap the data & Extracting the right information"
   ]
  },
  {
   "cell_type": "markdown",
   "metadata": {},
   "source": [
    "Find the key and put the key into the `.find()` Put all the exploring the right key at this cell.\n",
    "- mengambil data yg ada di dalam table dari class k-border...\n",
    "- subset ke angka 3000 spy mendapat gambaran feature yg ingin dicari memakai tag dan class apa di kode html"
   ]
  },
  {
   "cell_type": "code",
   "execution_count": 4,
   "metadata": {
    "ExecuteTime": {
     "end_time": "2023-04-11T18:17:10.587711Z",
     "start_time": "2023-04-11T18:17:10.559561Z"
    },
    "scrolled": false
   },
   "outputs": [
    {
     "name": "stdout",
     "output_type": "stream",
     "text": [
      "div class=\"k-border-b k-border-t k-border-tertiary-ghost-color md:k-border md:k-overflow-hidden md:k-rounded-lg\">\n",
      " <div class=\"k-bg-white k-divide-y k-divide-solid k-divide-tertiary-ghost-color\" itemscope=\"\" itemtype=\"http://schema.org/ItemList\">\n",
      "  <style data-emotion=\"css 1b4vug6\">\n",
      "   .css-1b4vug6{grid-template-columns:5rem 1rem auto 1rem max-content;grid-template-rows:auto 0.25rem auto;}\n",
      "  </style>\n",
      "  <div class=\"k-grid k-border-tertiary-ghost-color k-text-sm k-p-4 md:k-p-6 css-1b4vug6\" itemprop=\"itemListElement\" itemscope=\"\" itemtype=\"http://schema.org/ListItem\">\n",
      "   <a class=\"k-bg-white k-flex k-items-center k-flex-shrink k-justify-center k-text-4xl k-text-subdued k-overflow-hidden k-px-4 k-py-2 k-row-span-4\" href=\"/c/pgi-data/jobs\">\n",
      "    <div>\n",
      "     <img alt=\"PGI Data\" class=\"k-block k-max-w-full k-max-h-full k-bg-white k-mx-auto\" decoding=\"async\" height=\"80\" loading=\"eager\" src=\"https://rec-data.kalibrr.com/www.kalibrr.com/logos/Z7AL3F4XGKPLCEW9TFDFDZK33247MQ8J9PSHES26-6080167e.png\" width=\"130\"/>\n",
      "    </div>\n",
      "   </a>\n",
      "   <div class=\"k-col-start-3 k-row-start-1\">\n",
      "    <h2 class=\"k-text-xl k-font-medium\">\n",
      "     <a class=\"k-text-primary-color\" href=\"/c/pgi-data/jobs/208690/network-security-engineer\" itemprop=\"name\">\n",
      "      Network  Security Engineer\n",
      "     </a>\n",
      "    </h2>\n",
      "   </div>\n",
      "   <style data-emotion=\"css 1gzvnis\">\n",
      "    .css-1gzvnis{display:-webkit-box!important;-webkit-line-clamp:2;-webkit-box-orient:vertical;}\n",
      "   </style>\n",
      "   <div class=\"k-text-xs k-text-subdued k-col-start-1 k-row-start-5 k-col-span-3 k-mt-7 k-h-8 k-text-ellipsis k-overflow-hidden k-whitespace-normal css-1gzvnis\">\n",
      "    <div class=\"\">\n",
      "    </div>\n",
      "   </div>\n",
      "   <div class=\"k-col-start-3 k-row-start-3 k-flex k-flex-col k-justify-end\">\n",
      "    <span class=\"k-inline-flex k-items-center k-mb-1\">\n",
      "     <a class=\"k-text-subdued\" href=\"/c/pgi-data/jobs\">\n",
      "      PGI Data\n",
      "     </a>\n",
      "     <span class=\"k-ml-1 k-mb-0.5\">\n",
      "      <div class=\"\" style=\"display:inline\" title=\"verified-business\">\n",
      "       <svg aria-hidden=\"true\" class=\"MuiSvgIcon-root k-text-primary-color-500 MuiSvgIcon-fontSizeSmall\" focusable=\"false\" height=\"20\" viewbox=\"0 0 24 24\" width=\"20\">\n",
      "        <path d=\"M12 1L3 5v6c0 5.55 3.84 10.74 9 12 5.16-1.26 9-6.45 9-12V5l-9-4zm-2 16l-4-4 1.41-1.41L10 14.17l6.59-6.59L18 9l-8 8z\">\n",
      "        </path>\n",
      "       </svg>\n",
      "      </div>\n",
      "     </span>\n",
      "    </span>\n",
      "    <div class=\"k-flex k-flex-col md:k-flex-row\">\n",
      "     <a class=\"k-text-subdued k-block\" href=\"/job-board/l/Jakarta\">\n",
      "      Jakarta, Indonesia\n",
      "     </a>\n",
      "    </div>\n",
      "   </div>\n",
      "   <div class=\"k-col-start-5 k-row-start-1 k-text-right k-text-xs k-text-subdued k-hidden k-mb-2 md:k-block\">\n",
      "    <span class=\"k-block k-mb-1\">\n",
      "     Posted 6 days ago • Apply before 19 Apr\n",
      "    </span>\n",
      "    <span class=\"k-block\">\n",
      "     Recruiter was hiring 11 hours ago\n",
      "    </span>\n",
      "   </div>\n",
      "   <div class=\"k-col-start-5 k-row-start-1 md:k-flex md:k-justify-end md:k-items-end md:k-row-start-3\">\n",
      "    <div class=\"k-grid k-grid-rows-3\">\n",
      "     <button class=\"k-btn-tertiary k-inline-flex k-items-cent\n"
     ]
    }
   ],
   "source": [
    "table = soup.find('div', attrs={'class':'k-border-b k-border-t k-border-tertiary-ghost-color md:k-border md:k-overflow-hidden md:k-rounded-lg'})\n",
    "print(table.prettify()[1:3000])"
   ]
  },
  {
   "cell_type": "markdown",
   "metadata": {},
   "source": [
    "- title pekerjaan , \n",
    "- lokasi pekerjaan , \n",
    "- tanggal pekerjaan di post \n",
    "- dan dealine submit permohonan,\n",
    "- dan perusahaan\n",
    "\n",
    "\n",
    "- tariklah 15 halaman\n",
    "- Buatlah plot dari jumlah pekerjaan berdasarkan lokasi."
   ]
  },
  {
   "cell_type": "code",
   "execution_count": 5,
   "metadata": {
    "ExecuteTime": {
     "end_time": "2023-04-11T18:17:10.602947Z",
     "start_time": "2023-04-11T18:17:10.589677Z"
    }
   },
   "outputs": [
    {
     "data": {
      "text/plain": [
       "'Network  Security Engineer'"
      ]
     },
     "execution_count": 5,
     "metadata": {},
     "output_type": "execute_result"
    }
   ],
   "source": [
    "table.find_all('a', attrs={'class':'k-text-primary-color'})[0].text"
   ]
  },
  {
   "cell_type": "markdown",
   "metadata": {},
   "source": [
    "Finding row length."
   ]
  },
  {
   "cell_type": "code",
   "execution_count": 6,
   "metadata": {
    "ExecuteTime": {
     "end_time": "2023-04-11T18:17:10.618737Z",
     "start_time": "2023-04-11T18:17:10.604015Z"
    }
   },
   "outputs": [
    {
     "data": {
      "text/plain": [
       "15"
      ]
     },
     "execution_count": 6,
     "metadata": {},
     "output_type": "execute_result"
    }
   ],
   "source": [
    "row = table.find_all('a', attrs={'class':'k-text-primary-color'})\n",
    "row_length = len(row)\n",
    "row_length # di halaman pertama ada 15 data, mencari 15 halaman..."
   ]
  },
  {
   "cell_type": "markdown",
   "metadata": {},
   "source": [
    "Do the scrapping process here (please change this markdown with your explanation)"
   ]
  },
  {
   "cell_type": "code",
   "execution_count": 7,
   "metadata": {
    "ExecuteTime": {
     "end_time": "2023-04-11T18:17:10.804224Z",
     "start_time": "2023-04-11T18:17:10.620699Z"
    }
   },
   "outputs": [
    {
     "data": {
      "text/plain": [
       "[('Network  Security Engineer',\n",
       "  'Jakarta, Indonesia',\n",
       "  'Posted 6 days ago • Apply before 19 AprRecruiter was hiring 11 hours ago',\n",
       "  'Posted 6 days ago • Apply before 19 AprRecruiter was hiring 11 hours ago',\n",
       "  'PGI Data'),\n",
       " ('Project Manager',\n",
       "  'Jakarta, Indonesia',\n",
       "  'Posted 8 days ago • Apply before 29 JunRecruiter was hiring 11 hours ago',\n",
       "  'Posted 8 days ago • Apply before 29 JunRecruiter was hiring 11 hours ago',\n",
       "  'PGI Data'),\n",
       " ('IT System Analyst',\n",
       "  'Jakarta, Indonesia',\n",
       "  'Posted 16 days ago • Apply before 19 AprRecruiter was hiring 11 hours ago',\n",
       "  'Posted 16 days ago • Apply before 19 AprRecruiter was hiring 11 hours ago',\n",
       "  'PGI Data'),\n",
       " ('Data Analytics Manager',\n",
       "  'Kota Jakarta Barat, Indonesia',\n",
       "  'Posted 6 days ago • Apply before 29 AprRecruiter was hiring 9 hours ago',\n",
       "  'Posted 6 days ago • Apply before 29 AprRecruiter was hiring 9 hours ago',\n",
       "  'PT Adicipta Inovasi Teknologi'),\n",
       " ('Data Entry',\n",
       "  'South Jakarta, Indonesia',\n",
       "  'Posted 12 days ago • Apply before 29 AprRecruiter was hiring 8 hours ago',\n",
       "  'Posted 12 days ago • Apply before 29 AprRecruiter was hiring 8 hours ago',\n",
       "  'PT. Royal Trust'),\n",
       " ('DevOps and Data Engineer',\n",
       "  'Tangerang Selatan, Indonesia',\n",
       "  'Posted 7 days ago • Apply before 13 MayRecruiter was hiring 10 hours ago',\n",
       "  'Posted 7 days ago • Apply before 13 MayRecruiter was hiring 10 hours ago',\n",
       "  'Mobius Digital'),\n",
       " ('Data Quality Analyst',\n",
       "  'Central Jakarta City, Indonesia',\n",
       "  'Posted 8 days ago • Apply before 1 MayRecruiter was hiring 8 hours ago',\n",
       "  'Posted 8 days ago • Apply before 1 MayRecruiter was hiring 8 hours ago',\n",
       "  'Astra Financial'),\n",
       " ('Data Scientist',\n",
       "  'Tangerang Selatan, Indonesia',\n",
       "  'Posted a month ago • Apply before 15 MayRecruiter was hiring 10 hours ago',\n",
       "  'Posted a month ago • Apply before 15 MayRecruiter was hiring 10 hours ago',\n",
       "  'Mobius Digital'),\n",
       " ('Data Engineer',\n",
       "  'South Tangerang, Indonesia',\n",
       "  'Posted 19 days ago • Apply before 27 MayRecruiter was hiring 10 hours ago',\n",
       "  'Posted 19 days ago • Apply before 27 MayRecruiter was hiring 10 hours ago',\n",
       "  'PT Global Urban Esensial'),\n",
       " ('Program Staf Pendukung Operasi (PSPO)',\n",
       "  'Central Jakarta, Indonesia',\n",
       "  'Posted 7 days ago • Apply before 11 DecRecruiter was hiring an hour ago',\n",
       "  'Posted 7 days ago • Apply before 11 DecRecruiter was hiring an hour ago',\n",
       "  'PT Bank Central Asia Tbk'),\n",
       " ('Merchandiser FRESH (Chicken, Meat, and Fish Category) for PRIMARO',\n",
       "  'Jakarta Barat, Indonesia',\n",
       "  'Posted 9 hours ago • Apply before 29 AprRecruiter was hiring 9 hours ago',\n",
       "  'Posted 9 hours ago • Apply before 29 AprRecruiter was hiring 9 hours ago',\n",
       "  'PRIMARO'),\n",
       " ('Android Developer',\n",
       "  'Jakarta Selatan, Indonesia',\n",
       "  'Posted 11 hours ago • Apply before 30 MayRecruiter was hiring 9 hours ago',\n",
       "  'Posted 11 hours ago • Apply before 30 MayRecruiter was hiring 9 hours ago',\n",
       "  'PhinCon '),\n",
       " ('Senior Data Analyst',\n",
       "  'North Jakarta, Indonesia',\n",
       "  'Posted a month ago • Apply before 30 MayRecruiter was hiring 10 hours ago',\n",
       "  'Posted a month ago • Apply before 30 MayRecruiter was hiring 10 hours ago',\n",
       "  'paper.id'),\n",
       " ('Budget Officer',\n",
       "  'Jakarta Pusat, Indonesia',\n",
       "  'Posted 9 days ago • Apply before 14 AprRecruiter was hiring 8 hours ago',\n",
       "  'Posted 9 days ago • Apply before 14 AprRecruiter was hiring 8 hours ago',\n",
       "  'PaninBank'),\n",
       " ('Data Engineer',\n",
       "  'Jakarta Pusat, Indonesia',\n",
       "  'Posted 3 months ago • Apply before 14 JanRecruiter was hiring 10 hours ago',\n",
       "  'Posted 3 months ago • Apply before 14 JanRecruiter was hiring 10 hours ago',\n",
       "  'Nomura Research Institute Indonesia')]"
      ]
     },
     "execution_count": 7,
     "metadata": {},
     "output_type": "execute_result"
    }
   ],
   "source": [
    "temp = [] #initiating a tuple\n",
    "\n",
    "for i in range(0, row_length):\n",
    "\n",
    "    #get title \n",
    "    title = table.find_all('a', attrs={'class':'k-text-primary-color'})[i].text\n",
    "    \n",
    "    #get location \n",
    "    location = table.find_all('a', attrs={'k-text-subdued k-block'})[i].text\n",
    "    \n",
    "    #get post_on\n",
    "    post_on = table.find_all('div', attrs={'k-col-start-5 k-row-start-1 k-text-right k-text-xs k-text-subdued k-hidden k-mb-2 md:k-block'})[i].text\n",
    "    \n",
    "    #to remove excess white space\n",
    "    #inflation_mom = inflation_mom.strip() \n",
    "    \n",
    "    #get deadline\n",
    "    deadline = table.find_all('div', attrs={'k-col-start-5 k-row-start-1 k-text-right k-text-xs k-text-subdued k-hidden k-mb-2 md:k-block'})[i].text\n",
    "    \n",
    "     #get company\n",
    "    company = table.find_all('span', attrs={'k-inline-flex k-items-center k-mb-1'})[i].text\n",
    "    \n",
    "    temp.append((title,location,post_on, deadline, company )) \n",
    "    \n",
    "temp"
   ]
  },
  {
   "cell_type": "markdown",
   "metadata": {},
   "source": [
    "## Creating data frame & Data wrangling"
   ]
  },
  {
   "cell_type": "markdown",
   "metadata": {},
   "source": [
    "Put the array into dataframe"
   ]
  },
  {
   "cell_type": "code",
   "execution_count": 8,
   "metadata": {
    "ExecuteTime": {
     "end_time": "2023-04-11T18:17:11.317916Z",
     "start_time": "2023-04-11T18:17:10.806223Z"
    },
    "scrolled": false
   },
   "outputs": [
    {
     "data": {
      "text/html": [
       "<div>\n",
       "<style scoped>\n",
       "    .dataframe tbody tr th:only-of-type {\n",
       "        vertical-align: middle;\n",
       "    }\n",
       "\n",
       "    .dataframe tbody tr th {\n",
       "        vertical-align: top;\n",
       "    }\n",
       "\n",
       "    .dataframe thead th {\n",
       "        text-align: right;\n",
       "    }\n",
       "</style>\n",
       "<table border=\"1\" class=\"dataframe\">\n",
       "  <thead>\n",
       "    <tr style=\"text-align: right;\">\n",
       "      <th></th>\n",
       "      <th>title</th>\n",
       "      <th>location</th>\n",
       "      <th>post_on</th>\n",
       "      <th>deadline</th>\n",
       "      <th>company</th>\n",
       "    </tr>\n",
       "  </thead>\n",
       "  <tbody>\n",
       "    <tr>\n",
       "      <th>0</th>\n",
       "      <td>Network  Security Engineer</td>\n",
       "      <td>Jakarta, Indonesia</td>\n",
       "      <td>Posted 6 days ago • Apply before 19 AprRecruit...</td>\n",
       "      <td>Posted 6 days ago • Apply before 19 AprRecruit...</td>\n",
       "      <td>PGI Data</td>\n",
       "    </tr>\n",
       "    <tr>\n",
       "      <th>1</th>\n",
       "      <td>Project Manager</td>\n",
       "      <td>Jakarta, Indonesia</td>\n",
       "      <td>Posted 8 days ago • Apply before 29 JunRecruit...</td>\n",
       "      <td>Posted 8 days ago • Apply before 29 JunRecruit...</td>\n",
       "      <td>PGI Data</td>\n",
       "    </tr>\n",
       "    <tr>\n",
       "      <th>2</th>\n",
       "      <td>IT System Analyst</td>\n",
       "      <td>Jakarta, Indonesia</td>\n",
       "      <td>Posted 16 days ago • Apply before 19 AprRecrui...</td>\n",
       "      <td>Posted 16 days ago • Apply before 19 AprRecrui...</td>\n",
       "      <td>PGI Data</td>\n",
       "    </tr>\n",
       "    <tr>\n",
       "      <th>3</th>\n",
       "      <td>Data Analytics Manager</td>\n",
       "      <td>Kota Jakarta Barat, Indonesia</td>\n",
       "      <td>Posted 6 days ago • Apply before 29 AprRecruit...</td>\n",
       "      <td>Posted 6 days ago • Apply before 29 AprRecruit...</td>\n",
       "      <td>PT Adicipta Inovasi Teknologi</td>\n",
       "    </tr>\n",
       "    <tr>\n",
       "      <th>4</th>\n",
       "      <td>Data Entry</td>\n",
       "      <td>South Jakarta, Indonesia</td>\n",
       "      <td>Posted 12 days ago • Apply before 29 AprRecrui...</td>\n",
       "      <td>Posted 12 days ago • Apply before 29 AprRecrui...</td>\n",
       "      <td>PT. Royal Trust</td>\n",
       "    </tr>\n",
       "    <tr>\n",
       "      <th>5</th>\n",
       "      <td>DevOps and Data Engineer</td>\n",
       "      <td>Tangerang Selatan, Indonesia</td>\n",
       "      <td>Posted 7 days ago • Apply before 13 MayRecruit...</td>\n",
       "      <td>Posted 7 days ago • Apply before 13 MayRecruit...</td>\n",
       "      <td>Mobius Digital</td>\n",
       "    </tr>\n",
       "    <tr>\n",
       "      <th>6</th>\n",
       "      <td>Data Quality Analyst</td>\n",
       "      <td>Central Jakarta City, Indonesia</td>\n",
       "      <td>Posted 8 days ago • Apply before 1 MayRecruite...</td>\n",
       "      <td>Posted 8 days ago • Apply before 1 MayRecruite...</td>\n",
       "      <td>Astra Financial</td>\n",
       "    </tr>\n",
       "    <tr>\n",
       "      <th>7</th>\n",
       "      <td>Data Scientist</td>\n",
       "      <td>Tangerang Selatan, Indonesia</td>\n",
       "      <td>Posted a month ago • Apply before 15 MayRecrui...</td>\n",
       "      <td>Posted a month ago • Apply before 15 MayRecrui...</td>\n",
       "      <td>Mobius Digital</td>\n",
       "    </tr>\n",
       "    <tr>\n",
       "      <th>8</th>\n",
       "      <td>Data Engineer</td>\n",
       "      <td>South Tangerang, Indonesia</td>\n",
       "      <td>Posted 19 days ago • Apply before 27 MayRecrui...</td>\n",
       "      <td>Posted 19 days ago • Apply before 27 MayRecrui...</td>\n",
       "      <td>PT Global Urban Esensial</td>\n",
       "    </tr>\n",
       "    <tr>\n",
       "      <th>9</th>\n",
       "      <td>Program Staf Pendukung Operasi (PSPO)</td>\n",
       "      <td>Central Jakarta, Indonesia</td>\n",
       "      <td>Posted 7 days ago • Apply before 11 DecRecruit...</td>\n",
       "      <td>Posted 7 days ago • Apply before 11 DecRecruit...</td>\n",
       "      <td>PT Bank Central Asia Tbk</td>\n",
       "    </tr>\n",
       "    <tr>\n",
       "      <th>10</th>\n",
       "      <td>Merchandiser FRESH (Chicken, Meat, and Fish Ca...</td>\n",
       "      <td>Jakarta Barat, Indonesia</td>\n",
       "      <td>Posted 9 hours ago • Apply before 29 AprRecrui...</td>\n",
       "      <td>Posted 9 hours ago • Apply before 29 AprRecrui...</td>\n",
       "      <td>PRIMARO</td>\n",
       "    </tr>\n",
       "    <tr>\n",
       "      <th>11</th>\n",
       "      <td>Android Developer</td>\n",
       "      <td>Jakarta Selatan, Indonesia</td>\n",
       "      <td>Posted 11 hours ago • Apply before 30 MayRecru...</td>\n",
       "      <td>Posted 11 hours ago • Apply before 30 MayRecru...</td>\n",
       "      <td>PhinCon</td>\n",
       "    </tr>\n",
       "    <tr>\n",
       "      <th>12</th>\n",
       "      <td>Senior Data Analyst</td>\n",
       "      <td>North Jakarta, Indonesia</td>\n",
       "      <td>Posted a month ago • Apply before 30 MayRecrui...</td>\n",
       "      <td>Posted a month ago • Apply before 30 MayRecrui...</td>\n",
       "      <td>paper.id</td>\n",
       "    </tr>\n",
       "    <tr>\n",
       "      <th>13</th>\n",
       "      <td>Budget Officer</td>\n",
       "      <td>Jakarta Pusat, Indonesia</td>\n",
       "      <td>Posted 9 days ago • Apply before 14 AprRecruit...</td>\n",
       "      <td>Posted 9 days ago • Apply before 14 AprRecruit...</td>\n",
       "      <td>PaninBank</td>\n",
       "    </tr>\n",
       "    <tr>\n",
       "      <th>14</th>\n",
       "      <td>Data Engineer</td>\n",
       "      <td>Jakarta Pusat, Indonesia</td>\n",
       "      <td>Posted 3 months ago • Apply before 14 JanRecru...</td>\n",
       "      <td>Posted 3 months ago • Apply before 14 JanRecru...</td>\n",
       "      <td>Nomura Research Institute Indonesia</td>\n",
       "    </tr>\n",
       "  </tbody>\n",
       "</table>\n",
       "</div>"
      ],
      "text/plain": [
       "                                                title  \\\n",
       "0                          Network  Security Engineer   \n",
       "1                                     Project Manager   \n",
       "2                                   IT System Analyst   \n",
       "3                              Data Analytics Manager   \n",
       "4                                          Data Entry   \n",
       "5                            DevOps and Data Engineer   \n",
       "6                                Data Quality Analyst   \n",
       "7                                      Data Scientist   \n",
       "8                                       Data Engineer   \n",
       "9               Program Staf Pendukung Operasi (PSPO)   \n",
       "10  Merchandiser FRESH (Chicken, Meat, and Fish Ca...   \n",
       "11                                  Android Developer   \n",
       "12                                Senior Data Analyst   \n",
       "13                                     Budget Officer   \n",
       "14                                      Data Engineer   \n",
       "\n",
       "                           location  \\\n",
       "0                Jakarta, Indonesia   \n",
       "1                Jakarta, Indonesia   \n",
       "2                Jakarta, Indonesia   \n",
       "3     Kota Jakarta Barat, Indonesia   \n",
       "4          South Jakarta, Indonesia   \n",
       "5      Tangerang Selatan, Indonesia   \n",
       "6   Central Jakarta City, Indonesia   \n",
       "7      Tangerang Selatan, Indonesia   \n",
       "8        South Tangerang, Indonesia   \n",
       "9        Central Jakarta, Indonesia   \n",
       "10         Jakarta Barat, Indonesia   \n",
       "11       Jakarta Selatan, Indonesia   \n",
       "12         North Jakarta, Indonesia   \n",
       "13         Jakarta Pusat, Indonesia   \n",
       "14         Jakarta Pusat, Indonesia   \n",
       "\n",
       "                                              post_on  \\\n",
       "0   Posted 6 days ago • Apply before 19 AprRecruit...   \n",
       "1   Posted 8 days ago • Apply before 29 JunRecruit...   \n",
       "2   Posted 16 days ago • Apply before 19 AprRecrui...   \n",
       "3   Posted 6 days ago • Apply before 29 AprRecruit...   \n",
       "4   Posted 12 days ago • Apply before 29 AprRecrui...   \n",
       "5   Posted 7 days ago • Apply before 13 MayRecruit...   \n",
       "6   Posted 8 days ago • Apply before 1 MayRecruite...   \n",
       "7   Posted a month ago • Apply before 15 MayRecrui...   \n",
       "8   Posted 19 days ago • Apply before 27 MayRecrui...   \n",
       "9   Posted 7 days ago • Apply before 11 DecRecruit...   \n",
       "10  Posted 9 hours ago • Apply before 29 AprRecrui...   \n",
       "11  Posted 11 hours ago • Apply before 30 MayRecru...   \n",
       "12  Posted a month ago • Apply before 30 MayRecrui...   \n",
       "13  Posted 9 days ago • Apply before 14 AprRecruit...   \n",
       "14  Posted 3 months ago • Apply before 14 JanRecru...   \n",
       "\n",
       "                                             deadline  \\\n",
       "0   Posted 6 days ago • Apply before 19 AprRecruit...   \n",
       "1   Posted 8 days ago • Apply before 29 JunRecruit...   \n",
       "2   Posted 16 days ago • Apply before 19 AprRecrui...   \n",
       "3   Posted 6 days ago • Apply before 29 AprRecruit...   \n",
       "4   Posted 12 days ago • Apply before 29 AprRecrui...   \n",
       "5   Posted 7 days ago • Apply before 13 MayRecruit...   \n",
       "6   Posted 8 days ago • Apply before 1 MayRecruite...   \n",
       "7   Posted a month ago • Apply before 15 MayRecrui...   \n",
       "8   Posted 19 days ago • Apply before 27 MayRecrui...   \n",
       "9   Posted 7 days ago • Apply before 11 DecRecruit...   \n",
       "10  Posted 9 hours ago • Apply before 29 AprRecrui...   \n",
       "11  Posted 11 hours ago • Apply before 30 MayRecru...   \n",
       "12  Posted a month ago • Apply before 30 MayRecrui...   \n",
       "13  Posted 9 days ago • Apply before 14 AprRecruit...   \n",
       "14  Posted 3 months ago • Apply before 14 JanRecru...   \n",
       "\n",
       "                                company  \n",
       "0                              PGI Data  \n",
       "1                              PGI Data  \n",
       "2                              PGI Data  \n",
       "3         PT Adicipta Inovasi Teknologi  \n",
       "4                       PT. Royal Trust  \n",
       "5                        Mobius Digital  \n",
       "6                       Astra Financial  \n",
       "7                        Mobius Digital  \n",
       "8              PT Global Urban Esensial  \n",
       "9              PT Bank Central Asia Tbk  \n",
       "10                              PRIMARO  \n",
       "11                             PhinCon   \n",
       "12                             paper.id  \n",
       "13                            PaninBank  \n",
       "14  Nomura Research Institute Indonesia  "
      ]
     },
     "execution_count": 8,
     "metadata": {},
     "output_type": "execute_result"
    }
   ],
   "source": [
    "import pandas as pd\n",
    "\n",
    "df = pd.DataFrame(temp, columns = ('title','location','post_on', 'deadline', 'company'))\n",
    "df"
   ]
  },
  {
   "cell_type": "code",
   "execution_count": 9,
   "metadata": {
    "ExecuteTime": {
     "end_time": "2023-04-11T18:17:11.333114Z",
     "start_time": "2023-04-11T18:17:11.321916Z"
    },
    "scrolled": true
   },
   "outputs": [
    {
     "data": {
      "text/plain": [
       "title       object\n",
       "location    object\n",
       "post_on     object\n",
       "deadline    object\n",
       "company     object\n",
       "dtype: object"
      ]
     },
     "execution_count": 9,
     "metadata": {},
     "output_type": "execute_result"
    }
   ],
   "source": [
    "df.dtypes"
   ]
  },
  {
   "cell_type": "markdown",
   "metadata": {},
   "source": [
    "Do the data cleaning here (please change this markdown with your explanation of what you do for data wrangling)"
   ]
  },
  {
   "cell_type": "code",
   "execution_count": 10,
   "metadata": {
    "ExecuteTime": {
     "end_time": "2023-04-11T18:17:11.349227Z",
     "start_time": "2023-04-11T18:17:11.335598Z"
    },
    "scrolled": false
   },
   "outputs": [
    {
     "data": {
      "text/plain": [
       "array(['Jakarta, Indonesia', 'Kota Jakarta Barat, Indonesia',\n",
       "       'South Jakarta, Indonesia', 'Tangerang Selatan, Indonesia',\n",
       "       'Central Jakarta City, Indonesia', 'South Tangerang, Indonesia',\n",
       "       'Central Jakarta, Indonesia', 'Jakarta Barat, Indonesia',\n",
       "       'Jakarta Selatan, Indonesia', 'North Jakarta, Indonesia',\n",
       "       'Jakarta Pusat, Indonesia'], dtype=object)"
      ]
     },
     "execution_count": 10,
     "metadata": {},
     "output_type": "execute_result"
    }
   ],
   "source": [
    "df.location.unique()"
   ]
  },
  {
   "cell_type": "code",
   "execution_count": 11,
   "metadata": {
    "ExecuteTime": {
     "end_time": "2023-04-11T18:17:11.365096Z",
     "start_time": "2023-04-11T18:17:11.351230Z"
    },
    "scrolled": false
   },
   "outputs": [
    {
     "data": {
      "text/plain": [
       "array(['Posted 6 days ago • Apply before 19 AprRecruiter was hiring 11 hours ago',\n",
       "       'Posted 8 days ago • Apply before 29 JunRecruiter was hiring 11 hours ago',\n",
       "       'Posted 16 days ago • Apply before 19 AprRecruiter was hiring 11 hours ago',\n",
       "       'Posted 6 days ago • Apply before 29 AprRecruiter was hiring 9 hours ago',\n",
       "       'Posted 12 days ago • Apply before 29 AprRecruiter was hiring 8 hours ago',\n",
       "       'Posted 7 days ago • Apply before 13 MayRecruiter was hiring 10 hours ago',\n",
       "       'Posted 8 days ago • Apply before 1 MayRecruiter was hiring 8 hours ago',\n",
       "       'Posted a month ago • Apply before 15 MayRecruiter was hiring 10 hours ago',\n",
       "       'Posted 19 days ago • Apply before 27 MayRecruiter was hiring 10 hours ago',\n",
       "       'Posted 7 days ago • Apply before 11 DecRecruiter was hiring an hour ago',\n",
       "       'Posted 9 hours ago • Apply before 29 AprRecruiter was hiring 9 hours ago',\n",
       "       'Posted 11 hours ago • Apply before 30 MayRecruiter was hiring 9 hours ago',\n",
       "       'Posted a month ago • Apply before 30 MayRecruiter was hiring 10 hours ago',\n",
       "       'Posted 9 days ago • Apply before 14 AprRecruiter was hiring 8 hours ago',\n",
       "       'Posted 3 months ago • Apply before 14 JanRecruiter was hiring 10 hours ago'],\n",
       "      dtype=object)"
      ]
     },
     "execution_count": 11,
     "metadata": {},
     "output_type": "execute_result"
    }
   ],
   "source": [
    "df.post_on.unique()"
   ]
  },
  {
   "cell_type": "code",
   "execution_count": 12,
   "metadata": {
    "ExecuteTime": {
     "end_time": "2023-04-11T18:17:11.380807Z",
     "start_time": "2023-04-11T18:17:11.368096Z"
    }
   },
   "outputs": [
    {
     "data": {
      "text/plain": [
       "array(['Posted 6 days ago • Apply before 19 AprRecruiter was hiring 11 hours ago',\n",
       "       'Posted 8 days ago • Apply before 29 JunRecruiter was hiring 11 hours ago',\n",
       "       'Posted 16 days ago • Apply before 19 AprRecruiter was hiring 11 hours ago',\n",
       "       'Posted 6 days ago • Apply before 29 AprRecruiter was hiring 9 hours ago',\n",
       "       'Posted 12 days ago • Apply before 29 AprRecruiter was hiring 8 hours ago',\n",
       "       'Posted 7 days ago • Apply before 13 MayRecruiter was hiring 10 hours ago',\n",
       "       'Posted 8 days ago • Apply before 1 MayRecruiter was hiring 8 hours ago',\n",
       "       'Posted a month ago • Apply before 15 MayRecruiter was hiring 10 hours ago',\n",
       "       'Posted 19 days ago • Apply before 27 MayRecruiter was hiring 10 hours ago',\n",
       "       'Posted 7 days ago • Apply before 11 DecRecruiter was hiring an hour ago',\n",
       "       'Posted 9 hours ago • Apply before 29 AprRecruiter was hiring 9 hours ago',\n",
       "       'Posted 11 hours ago • Apply before 30 MayRecruiter was hiring 9 hours ago',\n",
       "       'Posted a month ago • Apply before 30 MayRecruiter was hiring 10 hours ago',\n",
       "       'Posted 9 days ago • Apply before 14 AprRecruiter was hiring 8 hours ago',\n",
       "       'Posted 3 months ago • Apply before 14 JanRecruiter was hiring 10 hours ago'],\n",
       "      dtype=object)"
      ]
     },
     "execution_count": 12,
     "metadata": {},
     "output_type": "execute_result"
    }
   ],
   "source": [
    "df.deadline.unique()"
   ]
  },
  {
   "cell_type": "code",
   "execution_count": 13,
   "metadata": {
    "ExecuteTime": {
     "end_time": "2023-04-11T18:17:11.427105Z",
     "start_time": "2023-04-11T18:17:11.383979Z"
    },
    "scrolled": false
   },
   "outputs": [
    {
     "data": {
      "text/html": [
       "<div>\n",
       "<style scoped>\n",
       "    .dataframe tbody tr th:only-of-type {\n",
       "        vertical-align: middle;\n",
       "    }\n",
       "\n",
       "    .dataframe tbody tr th {\n",
       "        vertical-align: top;\n",
       "    }\n",
       "\n",
       "    .dataframe thead th {\n",
       "        text-align: right;\n",
       "    }\n",
       "</style>\n",
       "<table border=\"1\" class=\"dataframe\">\n",
       "  <thead>\n",
       "    <tr style=\"text-align: right;\">\n",
       "      <th></th>\n",
       "      <th>title</th>\n",
       "      <th>location</th>\n",
       "      <th>post_on</th>\n",
       "      <th>deadline</th>\n",
       "      <th>company</th>\n",
       "    </tr>\n",
       "  </thead>\n",
       "  <tbody>\n",
       "    <tr>\n",
       "      <th>0</th>\n",
       "      <td>Network  Security Engineer</td>\n",
       "      <td>Jakarta</td>\n",
       "      <td>6 days ago</td>\n",
       "      <td>19 Apr</td>\n",
       "      <td>PGI Data</td>\n",
       "    </tr>\n",
       "    <tr>\n",
       "      <th>1</th>\n",
       "      <td>Project Manager</td>\n",
       "      <td>Jakarta</td>\n",
       "      <td>8 days ago</td>\n",
       "      <td>29 June</td>\n",
       "      <td>PGI Data</td>\n",
       "    </tr>\n",
       "    <tr>\n",
       "      <th>2</th>\n",
       "      <td>IT System Analyst</td>\n",
       "      <td>Jakarta</td>\n",
       "      <td>16 days ago</td>\n",
       "      <td>19 Apr</td>\n",
       "      <td>PGI Data</td>\n",
       "    </tr>\n",
       "    <tr>\n",
       "      <th>3</th>\n",
       "      <td>Data Analytics Manager</td>\n",
       "      <td>Jakarta Barat</td>\n",
       "      <td>6 days ago</td>\n",
       "      <td>29 Apr</td>\n",
       "      <td>PT Adicipta Inovasi Teknologi</td>\n",
       "    </tr>\n",
       "    <tr>\n",
       "      <th>4</th>\n",
       "      <td>Data Entry</td>\n",
       "      <td>Jakarta Selatan</td>\n",
       "      <td>12 days ago</td>\n",
       "      <td>29 Apr</td>\n",
       "      <td>PT. Royal Trust</td>\n",
       "    </tr>\n",
       "    <tr>\n",
       "      <th>5</th>\n",
       "      <td>DevOps and Data Engineer</td>\n",
       "      <td>Tangerang Selatan</td>\n",
       "      <td>7 days ago</td>\n",
       "      <td>13 May</td>\n",
       "      <td>Mobius Digital</td>\n",
       "    </tr>\n",
       "    <tr>\n",
       "      <th>6</th>\n",
       "      <td>Data Quality Analyst</td>\n",
       "      <td>Jakarta Pusat</td>\n",
       "      <td>8 days ago</td>\n",
       "      <td>1 May</td>\n",
       "      <td>Astra Financial</td>\n",
       "    </tr>\n",
       "    <tr>\n",
       "      <th>7</th>\n",
       "      <td>Data Scientist</td>\n",
       "      <td>Tangerang Selatan</td>\n",
       "      <td>a month ago</td>\n",
       "      <td>15 May</td>\n",
       "      <td>Mobius Digital</td>\n",
       "    </tr>\n",
       "    <tr>\n",
       "      <th>8</th>\n",
       "      <td>Data Engineer</td>\n",
       "      <td>Tangerang Selatan</td>\n",
       "      <td>19 days ago</td>\n",
       "      <td>27 May</td>\n",
       "      <td>PT Global Urban Esensial</td>\n",
       "    </tr>\n",
       "    <tr>\n",
       "      <th>9</th>\n",
       "      <td>Program Staf Pendukung Operasi (PSPO)</td>\n",
       "      <td>Jakarta Pusat</td>\n",
       "      <td>7 days ago</td>\n",
       "      <td>11 Dec</td>\n",
       "      <td>PT Bank Central Asia Tbk</td>\n",
       "    </tr>\n",
       "    <tr>\n",
       "      <th>10</th>\n",
       "      <td>Merchandiser FRESH (Chicken, Meat, and Fish Ca...</td>\n",
       "      <td>Jakarta Barat</td>\n",
       "      <td>9 hours ago</td>\n",
       "      <td>29 Apr</td>\n",
       "      <td>PRIMARO</td>\n",
       "    </tr>\n",
       "    <tr>\n",
       "      <th>11</th>\n",
       "      <td>Android Developer</td>\n",
       "      <td>Jakarta Selatan</td>\n",
       "      <td>11 hours ago</td>\n",
       "      <td>30 May</td>\n",
       "      <td>PhinCon</td>\n",
       "    </tr>\n",
       "    <tr>\n",
       "      <th>12</th>\n",
       "      <td>Senior Data Analyst</td>\n",
       "      <td>Jakarta Utara</td>\n",
       "      <td>a month ago</td>\n",
       "      <td>30 May</td>\n",
       "      <td>paper.id</td>\n",
       "    </tr>\n",
       "    <tr>\n",
       "      <th>13</th>\n",
       "      <td>Budget Officer</td>\n",
       "      <td>Jakarta Pusat</td>\n",
       "      <td>9 days ago</td>\n",
       "      <td>14 Apr</td>\n",
       "      <td>PaninBank</td>\n",
       "    </tr>\n",
       "    <tr>\n",
       "      <th>14</th>\n",
       "      <td>Data Engineer</td>\n",
       "      <td>Jakarta Pusat</td>\n",
       "      <td>3 months ago</td>\n",
       "      <td>14 Jan</td>\n",
       "      <td>Nomura Research Institute Indonesia</td>\n",
       "    </tr>\n",
       "  </tbody>\n",
       "</table>\n",
       "</div>"
      ],
      "text/plain": [
       "                                                title           location  \\\n",
       "0                          Network  Security Engineer            Jakarta   \n",
       "1                                     Project Manager            Jakarta   \n",
       "2                                   IT System Analyst            Jakarta   \n",
       "3                              Data Analytics Manager      Jakarta Barat   \n",
       "4                                          Data Entry    Jakarta Selatan   \n",
       "5                            DevOps and Data Engineer  Tangerang Selatan   \n",
       "6                                Data Quality Analyst      Jakarta Pusat   \n",
       "7                                      Data Scientist  Tangerang Selatan   \n",
       "8                                       Data Engineer  Tangerang Selatan   \n",
       "9               Program Staf Pendukung Operasi (PSPO)      Jakarta Pusat   \n",
       "10  Merchandiser FRESH (Chicken, Meat, and Fish Ca...      Jakarta Barat   \n",
       "11                                  Android Developer    Jakarta Selatan   \n",
       "12                                Senior Data Analyst      Jakarta Utara   \n",
       "13                                     Budget Officer      Jakarta Pusat   \n",
       "14                                      Data Engineer      Jakarta Pusat   \n",
       "\n",
       "           post_on  deadline                              company  \n",
       "0      6 days ago     19 Apr                             PGI Data  \n",
       "1      8 days ago    29 June                             PGI Data  \n",
       "2     16 days ago     19 Apr                             PGI Data  \n",
       "3      6 days ago     29 Apr        PT Adicipta Inovasi Teknologi  \n",
       "4     12 days ago     29 Apr                      PT. Royal Trust  \n",
       "5      7 days ago     13 May                       Mobius Digital  \n",
       "6      8 days ago      1 May                      Astra Financial  \n",
       "7     a month ago     15 May                       Mobius Digital  \n",
       "8     19 days ago     27 May             PT Global Urban Esensial  \n",
       "9      7 days ago     11 Dec             PT Bank Central Asia Tbk  \n",
       "10    9 hours ago     29 Apr                              PRIMARO  \n",
       "11   11 hours ago     30 May                             PhinCon   \n",
       "12    a month ago     30 May                             paper.id  \n",
       "13     9 days ago     14 Apr                            PaninBank  \n",
       "14   3 months ago     14 Jan  Nomura Research Institute Indonesia  "
      ]
     },
     "execution_count": 13,
     "metadata": {},
     "output_type": "execute_result"
    }
   ],
   "source": [
    "df['location'] = df['location'].str.replace(\", Indonesia\",\"\")\n",
    "df['location'] = df['location'].str.replace(\"Kota Jakarta Barat\",\"Jakarta Barat\")\n",
    "df['location'] = df['location'].str.replace(\"Central Jakarta City\",\"Jakarta Pusat\")\n",
    "df['location'] = df['location'].str.replace(\"Central Jakarta\",\"Jakarta Pusat\")\n",
    "df['location'] = df['location'].str.replace(\"South Jakarta\",\"Jakarta Selatan\")\n",
    "df['location'] = df['location'].str.replace(\"North Jakarta\",\"Jakarta Utara\")\n",
    "df['location'] = df['location'].str.replace(\"South Tangerang\",\"Tangerang Selatan\")\n",
    "df['location'] = df['location'].str.replace(\"West Jakarta\",\"Jakarta Barat\")\n",
    "df['location'] = df['location'].str.replace(\"East Jakarta\",\"Jakarta Timur\")\n",
    "\n",
    "df['post_on'] = df['post_on'].str.split('•').str[0]\n",
    "#df = df.assign(post_on = lambda x: x['post_on'].str.extract('(\\d+)'))\n",
    "#df['post_on'].fillna(30, inplace=True)\n",
    "df.post_on = df.post_on.str.replace(\"Posted\",\"\")\n",
    "\n",
    "df.deadline = df.deadline.str[32:41]\n",
    "df['deadline'] = df['deadline'].str.replace(\"R\",\"\")\n",
    "df['deadline'] = df['deadline'].str.replace(\"e \",\"\")\n",
    "df['deadline'] = df['deadline'].str.replace(\"re \",\"\")\n",
    "df['deadline'] = df['deadline'].str.replace(\"r14\",\"14\")\n",
    "df['deadline'] = df['deadline'].str.replace(\"r30\",\"30\")\n",
    "df['deadline'] = df['deadline'].str.replace(\"JunRe \",\"Jun\")\n",
    "df['deadline'] = df['deadline'].str.replace(\"AprRe \",\"Apr\")\n",
    "df['deadline'] = df['deadline'].str.replace(\"AprR \",\"Apr\")\n",
    "df['deadline'] = df['deadline'].str.replace(\"MayRe \",\"May\")\n",
    "df['deadline'] = df['deadline'].str.replace(\"MayRec \",\"May\")\n",
    "df['deadline'] = df['deadline'].str.replace(\"DecRe \",\"Dec\")\n",
    "df['deadline'] = df['deadline'].str.replace(\"Dece\",\"Dec\")\n",
    "df['deadline'] = df['deadline'].str.replace(\"AprR \",\"Apr\")\n",
    "df['deadline'] = df['deadline'].str.replace(\"Apre\",\"Apr\")\n",
    "df['deadline'] = df['deadline'].str.replace(\"Maye\",\"May\")\n",
    "df['deadline'] = df['deadline'].str.replace(\"Mayec\",\"May\")\n",
    "df['deadline'] = df['deadline'].str.replace(\"Mayc\",\"May\")\n",
    "\n",
    "\n",
    "df"
   ]
  },
  {
   "cell_type": "markdown",
   "metadata": {},
   "source": [
    "Data visualisation (please change this markdown with your explanation of what you do for data wrangling)"
   ]
  },
  {
   "cell_type": "code",
   "execution_count": 14,
   "metadata": {
    "ExecuteTime": {
     "end_time": "2023-04-11T18:17:11.442044Z",
     "start_time": "2023-04-11T18:17:11.430007Z"
    }
   },
   "outputs": [
    {
     "data": {
      "text/html": [
       "<div>\n",
       "<style scoped>\n",
       "    .dataframe tbody tr th:only-of-type {\n",
       "        vertical-align: middle;\n",
       "    }\n",
       "\n",
       "    .dataframe tbody tr th {\n",
       "        vertical-align: top;\n",
       "    }\n",
       "\n",
       "    .dataframe thead th {\n",
       "        text-align: right;\n",
       "    }\n",
       "</style>\n",
       "<table border=\"1\" class=\"dataframe\">\n",
       "  <thead>\n",
       "    <tr style=\"text-align: right;\">\n",
       "      <th></th>\n",
       "      <th>location</th>\n",
       "      <th>title</th>\n",
       "    </tr>\n",
       "  </thead>\n",
       "  <tbody>\n",
       "    <tr>\n",
       "      <th>0</th>\n",
       "      <td>Jakarta Utara</td>\n",
       "      <td>1</td>\n",
       "    </tr>\n",
       "    <tr>\n",
       "      <th>1</th>\n",
       "      <td>Jakarta Barat</td>\n",
       "      <td>2</td>\n",
       "    </tr>\n",
       "    <tr>\n",
       "      <th>2</th>\n",
       "      <td>Jakarta Selatan</td>\n",
       "      <td>2</td>\n",
       "    </tr>\n",
       "    <tr>\n",
       "      <th>3</th>\n",
       "      <td>Jakarta</td>\n",
       "      <td>3</td>\n",
       "    </tr>\n",
       "    <tr>\n",
       "      <th>4</th>\n",
       "      <td>Tangerang Selatan</td>\n",
       "      <td>3</td>\n",
       "    </tr>\n",
       "    <tr>\n",
       "      <th>5</th>\n",
       "      <td>Jakarta Pusat</td>\n",
       "      <td>4</td>\n",
       "    </tr>\n",
       "  </tbody>\n",
       "</table>\n",
       "</div>"
      ],
      "text/plain": [
       "            location  title\n",
       "0      Jakarta Utara      1\n",
       "1      Jakarta Barat      2\n",
       "2    Jakarta Selatan      2\n",
       "3            Jakarta      3\n",
       "4  Tangerang Selatan      3\n",
       "5      Jakarta Pusat      4"
      ]
     },
     "execution_count": 14,
     "metadata": {},
     "output_type": "execute_result"
    }
   ],
   "source": [
    "# Buatlah plot dari jumlah pekerjaan berdasarkan lokasi\n",
    "# fill this\n",
    "cat_order = df.groupby('location').agg({\n",
    "'title' : 'count'\n",
    " }).sort_values('title', ascending=True).reset_index()\n",
    "cat_order"
   ]
  },
  {
   "cell_type": "code",
   "execution_count": 15,
   "metadata": {
    "ExecuteTime": {
     "end_time": "2023-04-11T18:17:12.450949Z",
     "start_time": "2023-04-11T18:17:11.444166Z"
    }
   },
   "outputs": [
    {
     "data": {
      "image/png": "[encoded data removed]",
      "text/plain": [
       "<Figure size 2400x900 with 1 Axes>"
      ]
     },
     "metadata": {},
     "output_type": "display_data"
    }
   ],
   "source": []
  },
  {
   "cell_type": "markdown",
   "metadata": {},
   "source": [
    "### Implementing your webscrapping to the flask dashboard\n",
    "\n",
    "- Copy paste all of your web scrapping process to the desired position on the `app.py`\n",
    "- Changing the title of the dasboard at `index.html`"
   ]
  },
  {
   "cell_type": "markdown",
   "metadata": {},
   "source": [
    "## Finishing This Notebook with Your Analysis and Conclusion\n",
    "\n",
    "First you can do start with making the data visualisation. "
   ]
  },
  {
   "cell_type": "code",
   "execution_count": null,
   "metadata": {
    "ExecuteTime": {
     "end_time": "2020-01-13T05:20:56.208237Z",
     "start_time": "2020-01-13T05:20:56.076043Z"
    }
   },
   "outputs": [],
   "source": [
    "import matplotlib.pyplot as plt\n",
    "\n",
    "X = cat_order['location']\n",
    "Y = cat_order['title']\n",
    "my_colors = ['r','g','b','k','y','m','c']\n",
    "fig = plt.figure(figsize=(8,3),dpi=300)\n",
    "fig.add_subplot()\n",
    "plt.barh(X,Y, color=my_colors);\n",
    "plt.savefig('cat_order.png',bbox_inches=\"tight\");"
   ]
  },
  {
   "cell_type": "markdown",
   "metadata": {},
   "source": [
    "jakarta has the most vacancy in data than any location, second is tangerang."
   ]
  },
  {
   "cell_type": "markdown",
   "metadata": {},
   "source": [
    "### Implement it at the webapps\n",
    "\n",
    "- You can create additional analysis from the data.\n",
    "- Implement it to the dashboard with at `app.py` dan `index.html`."
   ]
  }
 ],
 "metadata": {
  "kernelspec": {
   "display_name": "capstone-webscrap",
   "language": "python",
   "name": "capstone-webscrap"
  },
  "language_info": {
   "codemirror_mode": {
    "name": "ipython",
    "version": 3
   },
   "file_extension": ".py",
   "mimetype": "text/x-python",
   "name": "python",
   "nbconvert_exporter": "python",
   "pygments_lexer": "ipython3",
   "version": "3.10.10"
  },
  "toc": {
   "base_numbering": 1,
   "nav_menu": {},
   "number_sections": true,
   "sideBar": true,
   "skip_h1_title": false,
   "title_cell": "Table of Contents",
   "title_sidebar": "Contents",
   "toc_cell": false,
   "toc_position": {},
   "toc_section_display": true,
   "toc_window_display": false
  }
 },
 "nbformat": 4,
 "nbformat_minor": 2
}
